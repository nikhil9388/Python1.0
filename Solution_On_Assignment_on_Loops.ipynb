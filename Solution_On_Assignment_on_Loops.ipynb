{
  "cells": [
    {
      "cell_type": "code",
      "execution_count": 11,
      "metadata": {
        "colab": {
          "base_uri": "https://localhost:8080/"
        },
        "id": "dUP--SHjWG15",
        "outputId": "c4c893af-f968-4485-8008-a1835d887362"
      },
      "outputs": [
        {
          "name": "stdout",
          "output_type": "stream",
          "text": [
            "Enter Month name:April\n",
            "Enter number of days:365\n",
            "Number of days present in April is :30\n"
          ]
        }
      ],
      "source": [
        "# Write a program which accepts month's name as input and display the number of days in the month as output\n",
        "month_name=input('Enter Month name:')\n",
        "month1=['January','March','May','July','August','October','December']\n",
        "month2=['February']\n",
        "month3=['April','June','September','November']\n",
        "year=int(input('Enter number of days:'))\n",
        "if month_name in month1:\n",
        "  print(\"Number of days present in \"+str(month_name)+'is :31')\n",
        "elif month_name in month3:\n",
        "   print(\"Number of days present in \"+str(month_name)+' is :30')\n",
        "elif month_name in month2:\n",
        "  if year<366:\n",
        "    print(\"Number of days present in \"+str(month_name)+' is :28')\n",
        "  else:\n",
        "    print(\"Number of days present in \"+str(month_name)+' is :29')"
      ]
    },
    {
      "cell_type": "code",
      "execution_count": 13,
      "metadata": {
        "colab": {
          "base_uri": "https://localhost:8080/"
        },
        "id": "IzYopS6nWLsR",
        "outputId": "ee04c251-5532-4d9f-d63d-bb73b21a6d52"
      },
      "outputs": [
        {
          "name": "stdout",
          "output_type": "stream",
          "text": [
            "Enter any name:Ashu\n",
            "vowel count in nameAshu is :2\n"
          ]
        }
      ],
      "source": [
        "# Take any word as input from the user and count the number of vowels in the word\n",
        "name=input(\"Enter any name:\")\n",
        "count=0\n",
        "vowel=['A','E','I','O','U','a','e','i','o','u']\n",
        "for i in name:\n",
        "  if i in vowel:\n",
        "    count=count+1\n",
        "print(\"vowel count in name\"+str(name)+\" is :\"+str(count))"
      ]
    },
    {
      "cell_type": "code",
      "execution_count": 17,
      "metadata": {
        "colab": {
          "base_uri": "https://localhost:8080/"
        },
        "id": "wJPN5aU8WOMI",
        "outputId": "2b283640-e138-4208-8ddf-974701ba1e11"
      },
      "outputs": [
        {
          "name": "stdout",
          "output_type": "stream",
          "text": [
            "Evenlist:[2, 8]\n",
            "Oddlist:[3, 5, 7, 9]\n"
          ]
        }
      ],
      "source": [
        "# Write a program to separate even and odd numbers in two distinct lists from a list of numbers of your choice\n",
        "\n",
        "def odd_even(list1):\n",
        "  evenlist=[]\n",
        "  oddlist=[]\n",
        "  for i in list1:\n",
        "    if i%2==0:\n",
        "      evenlist.append(i)\n",
        "    else:\n",
        "      oddlist.append(i)\n",
        "  print(\"Evenlist:\"+str(evenlist))\n",
        "  print(\"Oddlist:\"+str(oddlist))\n",
        "odd_even([2,3,5,7,8,9])\n"
      ]
    },
    {
      "cell_type": "code",
      "execution_count": null,
      "metadata": {
        "id": "npg3p195WRqR"
      },
      "outputs": [],
      "source": [
        "# Write a program that appends datatype of elements from a list to a separate list\n",
        "\n",
        "def datatypeOflist(list1):\n",
        "  new_list=[]\n",
        "  for i in my_list:\n",
        "    new_list.append(type(i))\n",
        "  print(new_list)\n",
        "\n",
        "my_list=['India','numpy',3.12,5,88]\n",
        "datatypeOflist(my_list)\n",
        "\n",
        "    \n"
      ]
    },
    {
      "cell_type": "code",
      "execution_count": 18,
      "metadata": {
        "colab": {
          "base_uri": "https://localhost:8080/"
        },
        "id": "Hk0YFbCzWXFU",
        "outputId": "9214dc5f-4bef-46c1-f039-e822a4cb420f"
      },
      "outputs": [
        {
          "name": "stdout",
          "output_type": "stream",
          "text": [
            "7\n",
            "14\n",
            "28\n",
            "147\n"
          ]
        }
      ],
      "source": [
        "# Write a program to display only those numbers from a list that satisfies the following conditions:\n",
        "\n",
        "# The number must be divisible by 7\n",
        "\n",
        "# If the number is 140 then skip it and move to the next number in the list\n",
        "\n",
        "# If the number in the list is greater than 630 then stop the loop\n",
        "\n",
        "def displayList(list1):\n",
        "  for i in list1:\n",
        "    if i%7==0:\n",
        "      if i==140:\n",
        "        continue\n",
        "      elif i>630:\n",
        "        break\n",
        "      else:\n",
        "        print(i)\n",
        "\n",
        "displayList([2,7,8,14,28,9,111,140,147])"
      ]
    }
  ],
  "metadata": {
    "colab": {
      "provenance": []
    },
    "kernelspec": {
      "display_name": "Python 3",
      "name": "python3"
    },
    "language_info": {
      "name": "python"
    }
  },
  "nbformat": 4,
  "nbformat_minor": 0
}
