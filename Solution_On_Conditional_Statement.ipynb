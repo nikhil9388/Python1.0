{
  "nbformat": 4,
  "nbformat_minor": 0,
  "metadata": {
    "colab": {
      "provenance": []
    },
    "kernelspec": {
      "name": "python3",
      "display_name": "Python 3"
    },
    "language_info": {
      "name": "python"
    }
  },
  "cells": [
    {
      "cell_type": "code",
      "execution_count": 18,
      "metadata": {
        "colab": {
          "base_uri": "https://localhost:8080/"
        },
        "id": "cHsX35ZO5vqf",
        "outputId": "4f5a8a0e-b2e6-4bf6-c629-1171211ff1d7"
      },
      "outputs": [
        {
          "output_type": "stream",
          "name": "stdout",
          "text": [
            "Enter First number:12\n",
            "Enter Second number:13\n",
            "Enter Third number:4\n",
            "y is greater than x and z.\n"
          ]
        }
      ],
      "source": [
        "#Take three numbers 'x', 'y' and 'z' as input from the user and check which number is greater\n",
        "x=int(input(\"Enter First number:\"))\n",
        "y=int(input(\"Enter Second number:\"))\n",
        "z=int(input(\"Enter Third number:\"))\n",
        "if y<x>z:\n",
        "  print(\"x is greater than y and z.\")\n",
        "elif x<y>z:\n",
        "  print(\"y is greater than x and z.\")\n",
        "elif x<z>y:\n",
        "  print(\"z is greater than x and y.\")\n",
        "elif x>z<y:\n",
        "  print(\"x and y are greater than z.\")\n",
        "elif z>x<y:\n",
        "  print(\"y and z are greater than x.\")\n",
        "elif x>y<z:\n",
        "  print(\"x and z are greater than y.\")\n",
        "else:\n",
        "  print(\"x, y and z are equal.\")\n"
      ]
    },
    {
      "cell_type": "code",
      "source": [
        "#Take an alphabet as input from the user and check if the alphabet is a vowel, consonant or an exception\n",
        "#Vowel - 'a','e','i','o','u'\n",
        "#Exception - 'h', 'y'\n",
        "#Consonant - rest other alphabets\n",
        "alphabet=input(\"Enter a alphabet:\") \n",
        "vowel=['a','e','i','o','u']\n",
        "Exception=['h', 'y']\n",
        "if alphabet in vowel:\n",
        "  print('Alphabet is a Vowel.')\n",
        "elif alphabet in Exception:\n",
        "  print('Alphabet is a Exception.')\n",
        "else: \n",
        "  print('Alphabet is a Consonant.')"
      ],
      "metadata": {
        "colab": {
          "base_uri": "https://localhost:8080/"
        },
        "id": "H6thgUnN7FoT",
        "outputId": "32c95a9a-9734-46ef-de52-7c9eae7318f7"
      },
      "execution_count": 21,
      "outputs": [
        {
          "output_type": "stream",
          "name": "stdout",
          "text": [
            "Enter a alphabet:h\n",
            "Alphabet is a Exception.\n"
          ]
        }
      ]
    },
    {
      "cell_type": "code",
      "source": [
        "#Write a program to check whether a number given by a user is divisible by 2 and 3 both \n",
        "x=int(input(\"Enter a number:\"))\n",
        "if x%2==0 and x%3==0:\n",
        "    print(\"Number is divisible by 2 and 3 both.\")\n",
        "else:\n",
        "  print(\"Number is not divisible by 2 and 3.\")"
      ],
      "metadata": {
        "colab": {
          "base_uri": "https://localhost:8080/"
        },
        "id": "9C2SSEbg7LD7",
        "outputId": "686e3435-2a4f-472f-ff79-3e6688af058e"
      },
      "execution_count": 28,
      "outputs": [
        {
          "output_type": "stream",
          "name": "stdout",
          "text": [
            "Enter a number:18\n",
            "Number is divisible by 2 and 3 both.\n"
          ]
        }
      ]
    },
    {
      "cell_type": "code",
      "source": [
        "#Write a program to accept the cost price  of a bike as input and display the road tax to be paid according to the following crieteria :-\n",
        "#Cost price - 100000 Tax - 15%\n",
        "#Cost price - between 50000 to 100000 Tax - 10%\n",
        "#Cost price - less than 50000 Tax - 5%\n",
        "cp=int(input(\"Enter the cost price of bike:\"))\n",
        "if cp==100000:\n",
        "  print('Tax is 15%')\n",
        "  tax=0.15*cp\n",
        "  print('Tax is'+str(tax))\n",
        "elif 5000<cp<100000:\n",
        "  print('Tax is 10%')\n",
        "  tax=0.10*cp\n",
        "  print('Tax is'+str(tax))\n",
        "else:\n",
        "  print('Tax is 5%')\n",
        "  tax=0.05*cp\n",
        "  print('Tax is'+str(tax))"
      ],
      "metadata": {
        "colab": {
          "base_uri": "https://localhost:8080/"
        },
        "id": "iP5dWyBe7OyA",
        "outputId": "84a0aeb6-cad8-4c68-aebd-7e8e0843a368"
      },
      "execution_count": 32,
      "outputs": [
        {
          "output_type": "stream",
          "name": "stdout",
          "text": [
            "Enter the cost price of bike:500000\n",
            "Tax is 5%\n",
            "Tax is25000.0\n"
          ]
        }
      ]
    },
    {
      "cell_type": "code",
      "source": [
        "#Write a program to calculate the electricity bill by accepting the number of units consumed by the user as input. Use the following price chart for reference :-\n",
        "#Price of first 100 units - no charge\n",
        "#Price of next 100 units - Rs 5/- per unit\n",
        "#After 200 units - Rs 10/- per unit\n",
        "units=int(input('Enter number of units:'))\n",
        "if units<100:\n",
        "  print('No charge.')\n",
        "elif 200>units>100:\n",
        "  extra_units=units-100\n",
        "  price=extra_units*5\n",
        "  print('Price is'+str(price))\n",
        "else:\n",
        "  price1=100*5\n",
        "  extra_units=units-200\n",
        "  price2=extra_units*10\n",
        "  price3=price1+price2\n",
        "  print('Price is'+str(price3))\n"
      ],
      "metadata": {
        "colab": {
          "base_uri": "https://localhost:8080/"
        },
        "id": "b5uBTKjo7UJU",
        "outputId": "fdd01f4d-7098-4c0f-d71a-0ab9ebccb4d0"
      },
      "execution_count": 46,
      "outputs": [
        {
          "output_type": "stream",
          "name": "stdout",
          "text": [
            "Enter number of units:210\n",
            "Price is600\n"
          ]
        }
      ]
    }
  ]
}