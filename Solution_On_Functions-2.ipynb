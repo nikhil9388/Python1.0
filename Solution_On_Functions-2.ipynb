{
  "cells": [
    {
      "cell_type": "code",
      "execution_count": null,
      "metadata": {
        "colab": {
          "base_uri": "https://localhost:8080/"
        },
        "id": "qAvRDR-PclWn",
        "outputId": "6242922e-fab4-4157-c4fa-d138ace7ac34"
      },
      "outputs": [
        {
          "name": "stdout",
          "output_type": "stream",
          "text": [
            "Enter Number:25\n",
            "Number 25 is odd.\n"
          ]
        }
      ],
      "source": [
        "#Define a function that accepts a number and returns whether the number is even or odd.\n",
        "def even_odd(num):\n",
        "  if num%2==0:\n",
        "    print(\"Number \"+str(num)+' is even.')\n",
        "  else:\n",
        "    print(\"Number \"+str(num)+' is odd.')\n",
        "num=int(input(\"Enter Number:\"))\n",
        "even_odd(num)"
      ]
    },
    {
      "cell_type": "code",
      "execution_count": 1,
      "metadata": {
        "colab": {
          "base_uri": "https://localhost:8080/"
        },
        "id": "ITt7EyamxpGs",
        "outputId": "37eeadad-4906-4688-cec6-1881330741cd"
      },
      "outputs": [
        {
          "output_type": "stream",
          "name": "stdout",
          "text": [
            "[1, 4, 9, 16, 25, 36, 49, 64, 81, 100, 121, 144, 169, 196, 225, 256, 289, 324, 361, 400, 441, 484, 529, 576, 625, 676, 729, 784, 841, 900]\n"
          ]
        }
      ],
      "source": [
        "#Define a function to create and print a list where the values are square of numbers between 1 and 30 (both included).\n",
        "def square_num():\n",
        "  my_list=[]\n",
        "  for i in range(1,31):\n",
        "    i=i**2\n",
        "    my_list.append(i)\n",
        "  print(my_list)\n",
        "square_num()"
      ]
    },
    {
      "cell_type": "code",
      "execution_count": null,
      "metadata": {
        "colab": {
          "base_uri": "https://localhost:8080/"
        },
        "id": "j4IKh-_Jxtqw",
        "outputId": "a6ac2643-77b8-46d9-ca0a-ebcae16a7cf1"
      },
      "outputs": [
        {
          "name": "stdout",
          "output_type": "stream",
          "text": [
            "Enter your input:yes\n",
            "Shutting down...\n"
          ]
        }
      ],
      "source": [
        "#Define a function, shut_down, that takes one parameter. Then, if the shut_down function receives a value equal to \"yes\", it should print \"Shutting down\". \n",
        "#Alternatively, if vallue is equal to \"no\", then the function should print \"Shutdown aborted\". Finally, if shut_down gets anything other than those inputs, \n",
        "#the function should print \"Sorry\".\n",
        "\n",
        "def shut_down(value):\n",
        "  if value==\"yes\":\n",
        "    print(\"Shutting down...\")\n",
        "  elif value==\"no\":\n",
        "    print(\"Shutdown aborted...\")\n",
        "  else:\n",
        "    print(\"Sorry\")\n",
        "value=input(\"Enter your input:\")\n",
        "shut_down(value)\n"
      ]
    },
    {
      "cell_type": "code",
      "execution_count": null,
      "metadata": {
        "colab": {
          "base_uri": "https://localhost:8080/"
        },
        "id": "TAJsPmlNxy3_",
        "outputId": "c471e37c-7937-4494-876b-5ceeaf99128e"
      },
      "outputs": [
        {
          "name": "stdout",
          "output_type": "stream",
          "text": [
            "Enter a number:90\n",
            "729000\n"
          ]
        }
      ],
      "source": [
        "#Define a function called \"by_three\" that takes a parameter called number. If that number is divisible by 3, \"by_three\" should print the cube of the number. \n",
        "#Otherwise, by_three should print False.\n",
        "def by_three(number):\n",
        "  if number%3==0:\n",
        "    num=number**3\n",
        "    print(num)\n",
        "  else:\n",
        "    print(\"false\")\n",
        "number=int(input(\"Enter a number:\"))\n",
        "by_three(number)"
      ]
    },
    {
      "cell_type": "code",
      "execution_count": null,
      "metadata": {
        "colab": {
          "base_uri": "https://localhost:8080/"
        },
        "id": "cryPcWo9x_Yq",
        "outputId": "01141b6d-f1c0-450a-cc3b-9d7e38a886aa"
      },
      "outputs": [
        {
          "name": "stdout",
          "output_type": "stream",
          "text": [
            "Enter numbers of elements : 1,2,2,3,5,6,7,7,8,9,0\n",
            "count of 1 is 1\n",
            "count of 2 is 2\n",
            "count of 2 is 2\n",
            "count of 3 is 1\n",
            "count of 5 is 1\n",
            "count of 6 is 1\n",
            "count of 7 is 2\n",
            "count of 7 is 2\n",
            "count of 8 is 1\n",
            "count of 9 is 1\n",
            "count of 0 is 1\n",
            "['1', '3', '5', '6', '8', '9', '0']\n"
          ]
        }
      ],
      "source": [
        "#Define a function that takes a list and prints a new list with no duplicate elements given in the first list.\n",
        "def no_duplicates(l1):\n",
        "  newl1=[]\n",
        "  for i in l1:\n",
        "    if ',' not in i:\n",
        "      mycount=l1.count(i)\n",
        "      print(\"count of \"+str(i)+\" is \"+str(mycount))\n",
        "      if mycount==1:\n",
        "        newl1.append(i)\n",
        "  print(newl1)\n",
        "l1=list(input(\"Enter numbers of elements : \"))\n",
        "no_duplicates(l1)"
      ]
    }
  ],
  "metadata": {
    "colab": {
      "provenance": []
    },
    "kernelspec": {
      "display_name": "Python 3",
      "name": "python3"
    },
    "language_info": {
      "name": "python"
    }
  },
  "nbformat": 4,
  "nbformat_minor": 0
}