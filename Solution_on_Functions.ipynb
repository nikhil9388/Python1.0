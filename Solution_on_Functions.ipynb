{
  "nbformat": 4,
  "nbformat_minor": 0,
  "metadata": {
    "colab": {
      "provenance": []
    },
    "kernelspec": {
      "name": "python3",
      "display_name": "Python 3"
    },
    "language_info": {
      "name": "python"
    }
  },
  "cells": [
    {
      "cell_type": "markdown",
      "source": [
        "Define a function that accepts a number and returns whether the number is even or odd."
      ],
      "metadata": {
        "id": "SA0zwy1HTiK-"
      }
    },
    {
      "cell_type": "code",
      "source": [
        "def num(n):\n",
        "\n",
        "  if n%2==0:\n",
        "    print(\"number is even\")\n",
        "\n",
        "  else:\n",
        "    print(\"number is odd\")    "
      ],
      "metadata": {
        "id": "fBuXYX4dCw0y"
      },
      "execution_count": null,
      "outputs": []
    },
    {
      "cell_type": "code",
      "source": [
        "num(7)"
      ],
      "metadata": {
        "colab": {
          "base_uri": "https://localhost:8080/"
        },
        "id": "xgMcodDXEgHG",
        "outputId": "54b83fd8-0b6b-4c6d-e624-6965f59d8e60"
      },
      "execution_count": null,
      "outputs": [
        {
          "output_type": "stream",
          "name": "stdout",
          "text": [
            "number is odd\n"
          ]
        }
      ]
    },
    {
      "cell_type": "code",
      "source": [
        "num(2)"
      ],
      "metadata": {
        "colab": {
          "base_uri": "https://localhost:8080/"
        },
        "id": "4PS2d81-EiPJ",
        "outputId": "f3acaf67-54d8-410d-8f22-1ab097e58475"
      },
      "execution_count": null,
      "outputs": [
        {
          "output_type": "stream",
          "name": "stdout",
          "text": [
            "number is even\n"
          ]
        }
      ]
    },
    {
      "cell_type": "markdown",
      "source": [
        "Define a function to create and print a list where the values are square of numbers between 1 and 30 (both included)."
      ],
      "metadata": {
        "id": "eFB9qeBSTxRd"
      }
    },
    {
      "cell_type": "code",
      "source": [
        "def square():\n",
        "  l=list()\n",
        "\n",
        "  for i in range(1,31):\n",
        "    l.append(i**2)\n",
        "  print(l)"
      ],
      "metadata": {
        "id": "WXs0juJZCxxf"
      },
      "execution_count": null,
      "outputs": []
    },
    {
      "cell_type": "code",
      "source": [
        "square()"
      ],
      "metadata": {
        "colab": {
          "base_uri": "https://localhost:8080/"
        },
        "id": "QngJHZ1rDpP0",
        "outputId": "f237f32e-9fe3-45c3-8dff-6ebbf21dd83a"
      },
      "execution_count": null,
      "outputs": [
        {
          "output_type": "stream",
          "name": "stdout",
          "text": [
            "[1, 4, 9, 16, 25, 36, 49, 64, 81, 100, 121, 144, 169, 196, 225, 256, 289, 324, 361, 400, 441, 484, 529, 576, 625, 676, 729, 784, 841, 900]\n"
          ]
        }
      ]
    },
    {
      "cell_type": "markdown",
      "source": [
        "Define a function, shut_down, that takes one parameter. Then, if the shut_down function receives a value equal to \"yes\", it should print \"Shutting down\". Alternatively, if vallue is equal to \"no\", then the function should print \"Shutdown aborted\". Finally, if shut_down gets anything other than those inputs, the function should print \"Sorry\"."
      ],
      "metadata": {
        "id": "WPKsEW0dUIZF"
      }
    },
    {
      "cell_type": "code",
      "source": [
        "def shut_down(s):\n",
        "\n",
        "  if s=='yes':\n",
        "    print(\"shutting down\")\n",
        "  \n",
        "  elif s=='no':\n",
        "    print(\"shutdown aborted\")\n",
        "\n",
        "  else:\n",
        "    print(\"sorry\")"
      ],
      "metadata": {
        "id": "0zH9pnqeCydZ"
      },
      "execution_count": null,
      "outputs": []
    },
    {
      "cell_type": "code",
      "source": [
        "shut_down(\"yes\")"
      ],
      "metadata": {
        "colab": {
          "base_uri": "https://localhost:8080/"
        },
        "id": "M87b8tflDNF2",
        "outputId": "1f24d93b-4cf4-4b60-e1cc-c0ab5e461ecc"
      },
      "execution_count": null,
      "outputs": [
        {
          "output_type": "stream",
          "name": "stdout",
          "text": [
            "shutting down\n"
          ]
        }
      ]
    },
    {
      "cell_type": "markdown",
      "source": [
        " \n",
        "\n",
        "Define a function called \"by_three\" that takes a parameter called number. If that number is divisible by 3, \"by_three\" should print the cube of the number. Otherwise, by_three should print False."
      ],
      "metadata": {
        "id": "KosfqTW8Ur_1"
      }
    },
    {
      "cell_type": "code",
      "source": [
        "def by_three(n):\n",
        "\n",
        "  if n%3==0:\n",
        "    print(n*n*n)\n",
        "\n",
        "  else:\n",
        "    pass"
      ],
      "metadata": {
        "id": "d7QJMpAgCzFX"
      },
      "execution_count": null,
      "outputs": []
    },
    {
      "cell_type": "code",
      "source": [
        "by_three(9)"
      ],
      "metadata": {
        "colab": {
          "base_uri": "https://localhost:8080/"
        },
        "id": "1comh__-FmlG",
        "outputId": "77200dec-6f1d-4b8d-c93c-90179c8d6772"
      },
      "execution_count": null,
      "outputs": [
        {
          "output_type": "stream",
          "name": "stdout",
          "text": [
            "729\n"
          ]
        }
      ]
    },
    {
      "cell_type": "code",
      "source": [
        "by_three(5)"
      ],
      "metadata": {
        "id": "YcFEbfylFsm-"
      },
      "execution_count": null,
      "outputs": []
    },
    {
      "cell_type": "markdown",
      "source": [
        "Define a function that takes a list and prints a new list with no duplicate elements given in the first list."
      ],
      "metadata": {
        "id": "EWbQXeU5WpdZ"
      }
    },
    {
      "cell_type": "code",
      "source": [
        "def unique_list(l):\n",
        "  x = []\n",
        "  for a in l:\n",
        "    if a not in x:\n",
        "      x.append(a)\n",
        "  print(x)"
      ],
      "metadata": {
        "id": "RDsPyxdOCzcw"
      },
      "execution_count": null,
      "outputs": []
    },
    {
      "cell_type": "code",
      "source": [
        "unique_list([3,4,5,3,4,5,7,9])"
      ],
      "metadata": {
        "colab": {
          "base_uri": "https://localhost:8080/"
        },
        "id": "gKFVoiVuFSJl",
        "outputId": "1840584a-a397-4712-87a0-3f7d4aee3db3"
      },
      "execution_count": null,
      "outputs": [
        {
          "output_type": "stream",
          "name": "stdout",
          "text": [
            "[3, 4, 5, 7, 9]\n"
          ]
        }
      ]
    }
  ]
}